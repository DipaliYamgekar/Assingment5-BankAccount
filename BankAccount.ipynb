{
 "cells": [
  {
   "cell_type": "code",
   "execution_count": 1,
   "id": "63bf39e9",
   "metadata": {},
   "outputs": [
    {
     "name": "stdout",
     "output_type": "stream",
     "text": [
      "Ashish\n",
      "5000\n",
      "5%\n",
      "______________________________________________________\n",
      "Ashish\n",
      "5000\n"
     ]
    }
   ],
   "source": [
    "class Account:\n",
    "\n",
    "    def __init__(self):\n",
    "        pass\n",
    "    def title(self):\n",
    "        print(\"Ashish\")\n",
    "    def balance(self):\n",
    "        print(\"5000\")\n",
    "\n",
    "class SavingsAccount(Account):\n",
    "\n",
    "    def __init__(self):\n",
    "        pass\n",
    "    def interestRate(self):\n",
    "        print(\"5%\")\n",
    "    \n",
    "x=SavingsAccount()\n",
    "x.title()\n",
    "x.balance()\n",
    "x.interestRate()\n",
    "print(\"______________________________________________________\")\n",
    "x=Account()\n",
    "x.title()\n",
    "x.balance()"
   ]
  },
  {
   "cell_type": "code",
   "execution_count": null,
   "id": "e24cfa78",
   "metadata": {},
   "outputs": [],
   "source": []
  }
 ],
 "metadata": {
  "kernelspec": {
   "display_name": "Python 3 (ipykernel)",
   "language": "python",
   "name": "python3"
  },
  "language_info": {
   "codemirror_mode": {
    "name": "ipython",
    "version": 3
   },
   "file_extension": ".py",
   "mimetype": "text/x-python",
   "name": "python",
   "nbconvert_exporter": "python",
   "pygments_lexer": "ipython3",
   "version": "3.9.12"
  }
 },
 "nbformat": 4,
 "nbformat_minor": 5
}
